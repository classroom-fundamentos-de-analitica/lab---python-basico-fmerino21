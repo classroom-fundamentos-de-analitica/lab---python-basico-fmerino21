{
 "cells": [
  {
   "cell_type": "code",
   "execution_count": 1,
   "metadata": {},
   "outputs": [
    {
     "name": "stdout",
     "output_type": "stream",
     "text": [
      "['E\\t1\\t1999-02-28\\tb,g,f\\tjjj:12,bbb:3,ddd:9,ggg:8,hhh:2\\n', 'A\\t2\\t1999-10-28\\ta,f,c\\tccc:2,ddd:0,aaa:3,hhh:9\\n', 'B\\t5\\t1998-05-02\\tf,e,a,c\\tddd:2,ggg:5,ccc:6,jjj:12\\n', 'A\\t3\\t1999-08-28\\ta,b\\thhh:9,iii:5,eee:7,bbb:1\\n', 'C\\t6\\t1999-12-01\\tf,g,d,a\\tiii:6,ddd:5,eee:4,jjj:12\\n', 'A\\t7\\t1998-07-28\\tc,d\\tbbb:2,hhh:0,ccc:4,fff:1,aaa:7\\n', 'A\\t9\\t1997-02-28\\tg,d,a\\taaa:5,fff:8,ddd:2,iii:0,jjj:7,ccc:1\\n', 'B\\t1\\t1999-05-10\\tb,a\\tfff:3,hhh:1,ddd:2\\n', 'E\\t2\\t1997-04-12\\td,e,a,f\\teee:4,ccc:5,iii:9,fff:7,ggg:6,bbb:2\\n', 'B\\t3\\t1999-11-23\\td,b,g,f\\tbbb:7,jjj:9,fff:5,iii:4,ggg:3,eee:3\\n', 'C\\t7\\t1998-01-17\\td,c,f,b\\thhh:6,eee:4,iii:0,fff:2,jjj:12\\n', 'C\\t5\\t1998-12-28\\td,e,a,c\\tbbb:7,iii:6,ggg:9\\n', 'D\\t3\\t1999-10-15\\tg,e,f,b\\tbbb:9,aaa:3,ccc:6,fff:4,eee:2\\n', 'E\\t8\\t1998-11-01\\tc,f\\taaa:8,ddd:5,jjj:12\\n', 'B\\t9\\t1999-08-12\\td,b\\tccc:7,jjj:6,fff:7,ddd:3,aaa:2\\n', 'D\\t8\\t1997-12-01\\tf,e\\tccc:8,eee:6,bbb:9,ddd:3\\n', 'E\\t3\\t1997-07-28\\te,b,f\\tbbb:6,iii:3,hhh:5,fff:4,ggg:9,ddd:2\\n', 'D\\t5\\t1998-08-12\\tg,a\\thhh:4,jjj:5,ccc:9\\n', 'E\\t8\\t1999-08-24\\te,c,f,a\\tccc:1,iii:6,fff:9\\n', 'E\\t9\\t1998-01-23\\te,a\\tbbb:9,aaa:3,fff:1\\n', 'E\\t7\\t1999-06-22\\te,f\\tddd:9,iii:2,aaa:4\\n', 'E\\t3\\t1999-04-24\\tc,b,g\\tccc:5,fff:8,iii:7\\n', 'D\\t5\\t1999-06-25\\tc,f,a\\teee:3,jjj:17,ddd:7\\n', 'A\\t9\\t1999-08-25\\tf,a,d\\tjjj:12,ggg:7,ccc:7,ddd:9,bbb:3\\n', 'E\\t4\\t1997-07-26\\tc,d\\tjjj:6,ccc:4,aaa:1,hhh:9,iii:7,ggg:8\\n', 'E\\t6\\t1997-09-24\\te,d,c\\tfff:3,eee:6,iii:4,bbb:7,ddd:4,ccc:1\\n', 'A\\t8\\t1997-09-28\\ta,e,f\\tfff:0,ddd:5,ccc:4\\n', 'E\\t5\\t1999-06-22\\tc,a,g\\tggg:6,hhh:3,ddd:9,ccc:10,jjj:7\\n', 'A\\t6\\t1999-07-29\\tf,e\\thhh:6,jjj:13,eee:5,iii:7,ccc:3\\n', 'C\\t0\\t1999-08-22\\tf,c,a,g\\teee:1,fff:4,aaa:2,ccc:7,ggg:10,ddd:6\\n', 'A\\t9\\t1998-04-26\\tb,f\\tccc:6,aaa:9,eee:5,ddd:0,bbb:3\\n', 'D\\t3\\t1998-02-24\\tb,f\\tbbb:7,hhh:1,aaa:6,iii:4,fff:9,ddd:5\\n', 'E\\t5\\t1999-03-24\\ta,c\\tfff:3,ccc:1,ggg:3,eee:5\\n', 'B\\t4\\t1998-03-23\\tb,f,c\\tiii:7,ggg:3,ddd:0,jjj:8,hhh:5,ccc:1\\n', 'B\\t6\\t1999-04-21\\tf,a,e\\thhh:6,ccc:3,jjj:9,bbb:8,ddd:7\\n', 'D\\t7\\t1999-02-29\\ta,f\\taaa:1,fff:5,ddd:3\\n', 'B\\t8\\t1997-05-21\\tc,a\\tddd:5,jjj:17,iii:7,ccc:10,bbb:4\\n', 'C\\t9\\t1997-07-22\\tc,a,e,f\\teee:3,fff:2,hhh:6\\n', 'E\\t1\\t1999-09-28\\te,d\\tfff:9,iii:2,eee:5\\n', 'E\\t5\\t1998-01-26\\tf,a,d\\thhh:8,ggg:3,jjj:5\\n']\n"
     ]
    }
   ],
   "source": [
    "input_file = open('./data.csv', 'r').readlines()\n",
    "print(input_file)"
   ]
  },
  {
   "cell_type": "code",
   "execution_count": null,
   "metadata": {},
   "outputs": [],
   "source": [
    "sum = 0\n",
    "for row in input_file:\n",
    "    row = row.replace('\\t', '')\n",
    "    sum += int(row[1])\n",
    "\n",
    "print(sum)"
   ]
  },
  {
   "cell_type": "markdown",
   "metadata": {},
   "source": [
    "### Pregunta #2"
   ]
  },
  {
   "cell_type": "code",
   "execution_count": null,
   "metadata": {},
   "outputs": [],
   "source": [
    "dict = {}\n",
    "\n",
    "for row in input_file:\n",
    "    row = row.replace('\\t', '')\n",
    "    \n",
    "    if row[0] not in dict: dict[row[0]] = 1\n",
    "    else: dict[row[0]] += 1\n",
    "\n",
    "letters = list(dict.items())\n",
    "letters.sort(key = lambda x: x[0])\n",
    "letters"
   ]
  },
  {
   "cell_type": "markdown",
   "metadata": {},
   "source": [
    "### Pregunta #3"
   ]
  },
  {
   "cell_type": "code",
   "execution_count": null,
   "metadata": {},
   "outputs": [],
   "source": [
    "dict_final = {'A': 0, 'B':0, 'C':0, 'D':0, 'E':0}\n",
    "\n",
    "for letter in dict_final:\n",
    "    for row in input_file:\n",
    "        row = row.replace('\\t', '')\n",
    "\n",
    "        if row[0] == letter:\n",
    "            dict_final[letter] += int(row[1])\n",
    "\n",
    "list(dict_final.items())\n"
   ]
  },
  {
   "cell_type": "markdown",
   "metadata": {},
   "source": [
    "### Pregunta #4"
   ]
  },
  {
   "cell_type": "code",
   "execution_count": null,
   "metadata": {},
   "outputs": [],
   "source": [
    "dict_months = {}\n",
    "\n",
    "for row in input_file:\n",
    "    row = row.split('\\t')\n",
    "    date = row[2].split('-')\n",
    "    \n",
    "    if date[1] not in dict_months: dict_months[date[1]] = 1\n",
    "    else: dict_months[date[1]] += 1\n",
    "\n",
    "months = list(dict_months.items())\n",
    "months.sort(key = lambda x: x[0])\n",
    "\n",
    "months"
   ]
  },
  {
   "cell_type": "markdown",
   "metadata": {},
   "source": [
    "### Pregunta #5"
   ]
  },
  {
   "cell_type": "code",
   "execution_count": 6,
   "metadata": {},
   "outputs": [
    {
     "name": "stdout",
     "output_type": "stream",
     "text": [
      "{'A': (9, 2), 'B': (9, 1), 'C': (9, 0), 'D': (8, 3), 'E': (9, 1)}\n"
     ]
    }
   ],
   "source": [
    "dict_final = {'A':[0,11], 'B':[0,11], 'C':[0,11], 'D':[0,11], 'E':[0,11]}\n",
    "\n",
    "for row in input_file:\n",
    "    row = row.replace('\\t', '')\n",
    "    \n",
    "    letter = row[0]\n",
    "    dict_final[letter][0] = max(dict_final[letter][0], int(row[1]))\n",
    "    dict_final[letter][1] = min(dict_final[letter][1], int(row[1]))\n",
    "\n",
    "for i in dict_final:\n",
    "    dict_final[i] = tuple(dict_final[i])\n",
    "    \n",
    "print(dict_final)"
   ]
  },
  {
   "cell_type": "markdown",
   "metadata": {},
   "source": [
    "### Pregunta #6"
   ]
  },
  {
   "cell_type": "code",
   "execution_count": 8,
   "metadata": {},
   "outputs": [
    {
     "name": "stdout",
     "output_type": "stream",
     "text": [
      "[('aaa', (1, 9)), ('bbb', (1, 9)), ('ccc', (1, 10)), ('ddd', (0, 9)), ('eee', (1, 7)), ('fff', (0, 9)), ('ggg', (3, 10)), ('hhh', (0, 9)), ('iii', (0, 9)), ('jjj', (5, 17))]\n"
     ]
    }
   ],
   "source": [
    "dict_passwords = {}\n",
    "\n",
    "for row in input_file:\n",
    "    row = row.split('\\t')\n",
    "    \n",
    "    passwords = row[4].replace('\\n', '').split(',')\n",
    "    \n",
    "    for password in passwords:\n",
    "        aux = password.split(':')\n",
    "        key = aux[0]\n",
    "        value = int(aux[1])\n",
    "\n",
    "        if key not in dict_passwords:\n",
    "            dict_passwords[key] = [11, 0]\n",
    "            dict_passwords[key][0] = min(dict_passwords[key][0], value)\n",
    "            dict_passwords[key][1] = max(dict_passwords[key][1], value)\n",
    "        else:\n",
    "            dict_passwords[key][0] = min(dict_passwords[key][0], value)\n",
    "            dict_passwords[key][1] = max(dict_passwords[key][1], value)\n",
    "\n",
    "for i in dict_passwords:\n",
    "    dict_passwords[i] = tuple(dict_passwords[i])\n",
    "\n",
    "result = list(dict_passwords.items())\n",
    "result.sort(key = lambda x: x[0])\n",
    "\n",
    "print(result)"
   ]
  },
  {
   "cell_type": "markdown",
   "metadata": {},
   "source": [
    "### Pregunta #7"
   ]
  },
  {
   "cell_type": "code",
   "execution_count": 9,
   "metadata": {},
   "outputs": [
    {
     "name": "stdout",
     "output_type": "stream",
     "text": [
      "[(0, ['C']), (1, ['E', 'B', 'E']), (2, ['A', 'E']), (3, ['A', 'B', 'D', 'E', 'E', 'D']), (4, ['E', 'B']), (5, ['B', 'C', 'D', 'D', 'E', 'E', 'E']), (6, ['C', 'E', 'A', 'B']), (7, ['A', 'C', 'E', 'D']), (8, ['E', 'D', 'E', 'A', 'B']), (9, ['A', 'B', 'E', 'A', 'A', 'C'])]\n"
     ]
    }
   ],
   "source": [
    "dict = {0: [], 1:[], 2:[], 3:[], 4:[], 5:[], 6:[], 7:[], 8:[], 9:[]}\n",
    "\n",
    "for row in input_file:\n",
    "    row = row.split('\\t')\n",
    "\n",
    "    dict[int(row[1])].append(row[0])\n",
    "\n",
    "result = list(dict.items())\n",
    "print(result)"
   ]
  },
  {
   "cell_type": "markdown",
   "metadata": {},
   "source": [
    "### Pregunta #8"
   ]
  },
  {
   "cell_type": "code",
   "execution_count": 20,
   "metadata": {},
   "outputs": [
    {
     "name": "stdout",
     "output_type": "stream",
     "text": [
      "[(0, ['C']), (1, ['B', 'E']), (2, ['A', 'E']), (3, ['A', 'B', 'D', 'E']), (4, ['B', 'E']), (5, ['B', 'C', 'D', 'E']), (6, ['A', 'B', 'C', 'E']), (7, ['A', 'C', 'D', 'E']), (8, ['A', 'B', 'D', 'E']), (9, ['A', 'B', 'C', 'E'])]\n"
     ]
    }
   ],
   "source": [
    "dict = {0: [], 1:[], 2:[], 3:[], 4:[], 5:[], 6:[], 7:[], 8:[], 9:[]}\n",
    "\n",
    "for row in input_file:\n",
    "    row = row.split('\\t')\n",
    "\n",
    "    if row[0] not in dict[int(row[1])]:\n",
    "        dict[int(row[1])].append(row[0])\n",
    "\n",
    "for i in dict:\n",
    "    dict[i] = sorted(dict[i])\n",
    "\n",
    "result = list(dict.items())\n",
    "print(result)"
   ]
  },
  {
   "cell_type": "markdown",
   "metadata": {},
   "source": [
    "### Pregunta #9"
   ]
  },
  {
   "cell_type": "code",
   "execution_count": 32,
   "metadata": {},
   "outputs": [
    {
     "name": "stdout",
     "output_type": "stream",
     "text": [
      "{'aaa': 13, 'bbb': 16, 'ccc': 23, 'ddd': 23, 'eee': 15, 'fff': 20, 'ggg': 13, 'hhh': 16, 'iii': 18, 'jjj': 18}\n"
     ]
    }
   ],
   "source": [
    "dic = {}\n",
    "\n",
    "\n",
    "for row in input_file:\n",
    "    row = row.split('\\t')\n",
    "    passwords = row[4].replace('\\n', '').split(',')\n",
    "    \n",
    "    for password in passwords:\n",
    "        aux = password.split(':')\n",
    "        key = aux[0]\n",
    "\n",
    "        if key not in dic: dic[key] = 1\n",
    "        else: dic[key] += 1\n",
    "\n",
    "l = list(dic.items())\n",
    "l.sort()\n",
    "\n",
    "result = {k:v for k,v in l}\n",
    "print(result)"
   ]
  },
  {
   "cell_type": "markdown",
   "metadata": {},
   "source": [
    "### Pregunta #10"
   ]
  },
  {
   "cell_type": "code",
   "execution_count": 39,
   "metadata": {},
   "outputs": [
    {
     "name": "stdout",
     "output_type": "stream",
     "text": [
      "[('E', 3, 5), ('A', 3, 4), ('B', 4, 4), ('A', 2, 4), ('C', 4, 4), ('A', 2, 5), ('A', 3, 6), ('B', 2, 3), ('E', 4, 6), ('B', 4, 6), ('C', 4, 5), ('C', 4, 3), ('D', 4, 5), ('E', 2, 3), ('B', 2, 5), ('D', 2, 4), ('E', 3, 6), ('D', 2, 3), ('E', 4, 3), ('E', 2, 3), ('E', 2, 3), ('E', 3, 3), ('D', 3, 3), ('A', 3, 5), ('E', 2, 6), ('E', 3, 6), ('A', 3, 3), ('E', 3, 5), ('A', 2, 5), ('C', 4, 6), ('A', 2, 5), ('D', 2, 6), ('E', 2, 4), ('B', 3, 6), ('B', 3, 5), ('D', 2, 3), ('B', 2, 5), ('C', 4, 3), ('E', 2, 3), ('E', 3, 3)]\n"
     ]
    }
   ],
   "source": [
    "result = []\n",
    "\n",
    "for row in input_file:\n",
    "    row = row.split('\\t')\n",
    "    \n",
    "    len_row_4 = len(row[3].split(','))\n",
    "    len_row_5 = len(row[4].split(','))\n",
    "\n",
    "    el = [0,0,0]\n",
    "    el[0] = row[0]\n",
    "    el[1] = len_row_4\n",
    "    el[2] = len_row_5\n",
    "\n",
    "    result.append(el)\n",
    "\n",
    "for i in range(len(result)):\n",
    "    result[i] = tuple(result[i])\n",
    "\n",
    "print(result)"
   ]
  },
  {
   "cell_type": "markdown",
   "metadata": {},
   "source": [
    "### Pregunta #11"
   ]
  },
  {
   "cell_type": "code",
   "execution_count": 43,
   "metadata": {},
   "outputs": [
    {
     "name": "stdout",
     "output_type": "stream",
     "text": [
      "{'a': 122, 'b': 49, 'c': 91, 'd': 73, 'e': 86, 'f': 134, 'g': 35}\n"
     ]
    }
   ],
   "source": [
    "dict = {'a':0, 'b':0, 'c':0, 'd':0, 'e':0, 'f':0, 'g':0}\n",
    "\n",
    "for row in input_file:\n",
    "    row = row.split('\\t')\n",
    "    \n",
    "    \n",
    "    for i in row[3].split(','):\n",
    "        dict[i] += int(row[1])\n",
    "\n",
    "print(dict)"
   ]
  },
  {
   "cell_type": "markdown",
   "metadata": {},
   "source": [
    "### Pregunta #12"
   ]
  },
  {
   "cell_type": "code",
   "execution_count": 46,
   "metadata": {},
   "outputs": [
    {
     "name": "stdout",
     "output_type": "stream",
     "text": [
      "{'A': 177, 'B': 187, 'C': 114, 'D': 136, 'E': 324}\n"
     ]
    }
   ],
   "source": [
    "dict = {'A':0, 'B':0, 'C':0, 'D':0, 'E':0}\n",
    "\n",
    "for row in input_file:\n",
    "    row = row.split('\\t')\n",
    "\n",
    "    for i in row[4].split(','):\n",
    "        dict[row[0]] += int(i.split(':')[1])\n",
    "\n",
    "print(dict)"
   ]
  }
 ],
 "metadata": {
  "kernelspec": {
   "display_name": "Python 3.9.7 64-bit",
   "language": "python",
   "name": "python3"
  },
  "language_info": {
   "codemirror_mode": {
    "name": "ipython",
    "version": 3
   },
   "file_extension": ".py",
   "mimetype": "text/x-python",
   "name": "python",
   "nbconvert_exporter": "python",
   "pygments_lexer": "ipython3",
   "version": "3.9.7"
  },
  "orig_nbformat": 4,
  "vscode": {
   "interpreter": {
    "hash": "e7ff8f1df8a21c9a2e6e4eaf996e4b68432b0651a19ed7cd6bd28e8f473e4ff2"
   }
  }
 },
 "nbformat": 4,
 "nbformat_minor": 2
}
